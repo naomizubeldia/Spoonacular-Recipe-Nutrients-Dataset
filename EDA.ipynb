{
 "cells": [
  {
   "cell_type": "code",
   "execution_count": 1,
   "metadata": {},
   "outputs": [],
   "source": [
    "import pandas as pd\n",
    "import numpy as np\n",
    "import matplotlib.pyplot as plt\n",
    "import seaborn as sns"
   ]
  },
  {
   "cell_type": "code",
   "execution_count": 2,
   "metadata": {},
   "outputs": [],
   "source": [
    "recipe= pd.read_csv('recipes.csv')"
   ]
  },
  {
   "cell_type": "code",
   "execution_count": 4,
   "metadata": {},
   "outputs": [
    {
     "data": {
      "text/html": [
       "<div>\n",
       "<style scoped>\n",
       "    .dataframe tbody tr th:only-of-type {\n",
       "        vertical-align: middle;\n",
       "    }\n",
       "\n",
       "    .dataframe tbody tr th {\n",
       "        vertical-align: top;\n",
       "    }\n",
       "\n",
       "    .dataframe thead th {\n",
       "        text-align: right;\n",
       "    }\n",
       "</style>\n",
       "<table border=\"1\" class=\"dataframe\">\n",
       "  <thead>\n",
       "    <tr style=\"text-align: right;\">\n",
       "      <th></th>\n",
       "      <th>Unnamed: 0</th>\n",
       "      <th>id</th>\n",
       "      <th>title</th>\n",
       "      <th>image</th>\n",
       "      <th>imageType</th>\n",
       "      <th>calories</th>\n",
       "      <th>protein</th>\n",
       "      <th>fat</th>\n",
       "      <th>carbs</th>\n",
       "    </tr>\n",
       "  </thead>\n",
       "  <tbody>\n",
       "    <tr>\n",
       "      <th>0</th>\n",
       "      <td>0</td>\n",
       "      <td>157834</td>\n",
       "      <td>LAMB AND KIDNEY HOT- POT</td>\n",
       "      <td>https://spoonacular.com/recipeImages/157834-31...</td>\n",
       "      <td>jpg</td>\n",
       "      <td>663</td>\n",
       "      <td>34g</td>\n",
       "      <td>46g</td>\n",
       "      <td>27g</td>\n",
       "    </tr>\n",
       "    <tr>\n",
       "      <th>1</th>\n",
       "      <td>1</td>\n",
       "      <td>390813</td>\n",
       "      <td>Easy Korean Beef</td>\n",
       "      <td>https://spoonacular.com/recipeImages/390813-31...</td>\n",
       "      <td>jpg</td>\n",
       "      <td>326</td>\n",
       "      <td>33g</td>\n",
       "      <td>12g</td>\n",
       "      <td>20g</td>\n",
       "    </tr>\n",
       "    <tr>\n",
       "      <th>2</th>\n",
       "      <td>2</td>\n",
       "      <td>622598</td>\n",
       "      <td>Pittata - Pizza Frittata</td>\n",
       "      <td>https://spoonacular.com/recipeImages/622598-31...</td>\n",
       "      <td>jpg</td>\n",
       "      <td>587</td>\n",
       "      <td>44g</td>\n",
       "      <td>42g</td>\n",
       "      <td>6g</td>\n",
       "    </tr>\n",
       "    <tr>\n",
       "      <th>3</th>\n",
       "      <td>3</td>\n",
       "      <td>631824</td>\n",
       "      <td>(Lighter) Classic Eggplant Parmigiana</td>\n",
       "      <td>https://spoonacular.com/recipeImages/631824-31...</td>\n",
       "      <td>jpg</td>\n",
       "      <td>304</td>\n",
       "      <td>16g</td>\n",
       "      <td>16g</td>\n",
       "      <td>29g</td>\n",
       "    </tr>\n",
       "    <tr>\n",
       "      <th>4</th>\n",
       "      <td>4</td>\n",
       "      <td>632300</td>\n",
       "      <td>Amazing Chicken Burgers</td>\n",
       "      <td>https://spoonacular.com/recipeImages/632300-31...</td>\n",
       "      <td>jpg</td>\n",
       "      <td>361</td>\n",
       "      <td>32g</td>\n",
       "      <td>18g</td>\n",
       "      <td>17g</td>\n",
       "    </tr>\n",
       "  </tbody>\n",
       "</table>\n",
       "</div>"
      ],
      "text/plain": [
       "   Unnamed: 0      id                                  title  \\\n",
       "0           0  157834               LAMB AND KIDNEY HOT- POT   \n",
       "1           1  390813                       Easy Korean Beef   \n",
       "2           2  622598               Pittata - Pizza Frittata   \n",
       "3           3  631824  (Lighter) Classic Eggplant Parmigiana   \n",
       "4           4  632300                Amazing Chicken Burgers   \n",
       "\n",
       "                                               image imageType  calories  \\\n",
       "0  https://spoonacular.com/recipeImages/157834-31...       jpg       663   \n",
       "1  https://spoonacular.com/recipeImages/390813-31...       jpg       326   \n",
       "2  https://spoonacular.com/recipeImages/622598-31...       jpg       587   \n",
       "3  https://spoonacular.com/recipeImages/631824-31...       jpg       304   \n",
       "4  https://spoonacular.com/recipeImages/632300-31...       jpg       361   \n",
       "\n",
       "  protein  fat carbs  \n",
       "0     34g  46g   27g  \n",
       "1     33g  12g   20g  \n",
       "2     44g  42g    6g  \n",
       "3     16g  16g   29g  \n",
       "4     32g  18g   17g  "
      ]
     },
     "execution_count": 4,
     "metadata": {},
     "output_type": "execute_result"
    }
   ],
   "source": [
    "recipe.head()"
   ]
  },
  {
   "cell_type": "code",
   "execution_count": 34,
   "metadata": {},
   "outputs": [
    {
     "data": {
      "text/html": [
       "<div>\n",
       "<style scoped>\n",
       "    .dataframe tbody tr th:only-of-type {\n",
       "        vertical-align: middle;\n",
       "    }\n",
       "\n",
       "    .dataframe tbody tr th {\n",
       "        vertical-align: top;\n",
       "    }\n",
       "\n",
       "    .dataframe thead th {\n",
       "        text-align: right;\n",
       "    }\n",
       "</style>\n",
       "<table border=\"1\" class=\"dataframe\">\n",
       "  <thead>\n",
       "    <tr style=\"text-align: right;\">\n",
       "      <th></th>\n",
       "      <th>id</th>\n",
       "      <th>title</th>\n",
       "      <th>calories</th>\n",
       "      <th>protein</th>\n",
       "      <th>fat</th>\n",
       "      <th>carbs</th>\n",
       "    </tr>\n",
       "  </thead>\n",
       "  <tbody>\n",
       "    <tr>\n",
       "      <th>0</th>\n",
       "      <td>157834</td>\n",
       "      <td>LAMB AND KIDNEY HOT- POT</td>\n",
       "      <td>663</td>\n",
       "      <td>34g</td>\n",
       "      <td>46g</td>\n",
       "      <td>27g</td>\n",
       "    </tr>\n",
       "    <tr>\n",
       "      <th>1</th>\n",
       "      <td>390813</td>\n",
       "      <td>Easy Korean Beef</td>\n",
       "      <td>326</td>\n",
       "      <td>33g</td>\n",
       "      <td>12g</td>\n",
       "      <td>20g</td>\n",
       "    </tr>\n",
       "    <tr>\n",
       "      <th>2</th>\n",
       "      <td>622598</td>\n",
       "      <td>Pittata - Pizza Frittata</td>\n",
       "      <td>587</td>\n",
       "      <td>44g</td>\n",
       "      <td>42g</td>\n",
       "      <td>6g</td>\n",
       "    </tr>\n",
       "    <tr>\n",
       "      <th>3</th>\n",
       "      <td>631824</td>\n",
       "      <td>(Lighter) Classic Eggplant Parmigiana</td>\n",
       "      <td>304</td>\n",
       "      <td>16g</td>\n",
       "      <td>16g</td>\n",
       "      <td>29g</td>\n",
       "    </tr>\n",
       "    <tr>\n",
       "      <th>4</th>\n",
       "      <td>632300</td>\n",
       "      <td>Amazing Chicken Burgers</td>\n",
       "      <td>361</td>\n",
       "      <td>32g</td>\n",
       "      <td>18g</td>\n",
       "      <td>17g</td>\n",
       "    </tr>\n",
       "  </tbody>\n",
       "</table>\n",
       "</div>"
      ],
      "text/plain": [
       "       id                                  title  calories protein  fat carbs\n",
       "0  157834               LAMB AND KIDNEY HOT- POT       663     34g  46g   27g\n",
       "1  390813                       Easy Korean Beef       326     33g  12g   20g\n",
       "2  622598               Pittata - Pizza Frittata       587     44g  42g    6g\n",
       "3  631824  (Lighter) Classic Eggplant Parmigiana       304     16g  16g   29g\n",
       "4  632300                Amazing Chicken Burgers       361     32g  18g   17g"
      ]
     },
     "execution_count": 34,
     "metadata": {},
     "output_type": "execute_result"
    }
   ],
   "source": [
    "#recipe.info()\n",
    "recipes=recipe.drop(columns=['Unnamed: 0','image','imageType'])\n",
    "recipes.head()"
   ]
  },
  {
   "cell_type": "code",
   "execution_count": 31,
   "metadata": {},
   "outputs": [
    {
     "data": {
      "text/plain": [
       "id          0\n",
       "title       0\n",
       "calories    0\n",
       "protein     0\n",
       "fat         0\n",
       "carbs       0\n",
       "dtype: int64"
      ]
     },
     "execution_count": 31,
     "metadata": {},
     "output_type": "execute_result"
    }
   ],
   "source": [
    "\n",
    "recipes.isna().sum()"
   ]
  },
  {
   "cell_type": "code",
   "execution_count": 69,
   "metadata": {},
   "outputs": [],
   "source": [
    "recipes['protein (gram)']=recipes['protein'].str.replace('g','').astype(int)\n",
    "recipes['fat (gram)']=recipes['fat'].str.replace('g','').astype(int)\n",
    "recipes['carbs (gram)']=recipes['carbs'].str.replace('g','').astype(int)"
   ]
  },
  {
   "cell_type": "code",
   "execution_count": 70,
   "metadata": {},
   "outputs": [
    {
     "name": "stdout",
     "output_type": "stream",
     "text": [
      "<class 'pandas.core.frame.DataFrame'>\n",
      "RangeIndex: 300 entries, 0 to 299\n",
      "Data columns (total 6 columns):\n",
      " #   Column          Non-Null Count  Dtype \n",
      "---  ------          --------------  ----- \n",
      " 0   id              300 non-null    int64 \n",
      " 1   title           300 non-null    object\n",
      " 2   calories        300 non-null    int64 \n",
      " 3   protein (gram)  300 non-null    int32 \n",
      " 4   fat (gram)      300 non-null    int32 \n",
      " 5   carbs (gram)    300 non-null    int32 \n",
      "dtypes: int32(3), int64(2), object(1)\n",
      "memory usage: 10.7+ KB\n"
     ]
    }
   ],
   "source": [
    "final=recipes.drop(columns=['protein','fat','carbs'])\n",
    "final.info()"
   ]
  },
  {
   "cell_type": "code",
   "execution_count": 72,
   "metadata": {},
   "outputs": [
    {
     "data": {
      "text/html": [
       "<div>\n",
       "<style scoped>\n",
       "    .dataframe tbody tr th:only-of-type {\n",
       "        vertical-align: middle;\n",
       "    }\n",
       "\n",
       "    .dataframe tbody tr th {\n",
       "        vertical-align: top;\n",
       "    }\n",
       "\n",
       "    .dataframe thead th {\n",
       "        text-align: right;\n",
       "    }\n",
       "</style>\n",
       "<table border=\"1\" class=\"dataframe\">\n",
       "  <thead>\n",
       "    <tr style=\"text-align: right;\">\n",
       "      <th></th>\n",
       "      <th>calories</th>\n",
       "      <th>fat (gram)</th>\n",
       "      <th>protein (gram)</th>\n",
       "      <th>carbs (gram)</th>\n",
       "    </tr>\n",
       "  </thead>\n",
       "  <tbody>\n",
       "    <tr>\n",
       "      <th>count</th>\n",
       "      <td>300.00</td>\n",
       "      <td>300.00</td>\n",
       "      <td>300.00</td>\n",
       "      <td>300.00</td>\n",
       "    </tr>\n",
       "    <tr>\n",
       "      <th>mean</th>\n",
       "      <td>548.73</td>\n",
       "      <td>28.63</td>\n",
       "      <td>32.39</td>\n",
       "      <td>40.93</td>\n",
       "    </tr>\n",
       "    <tr>\n",
       "      <th>std</th>\n",
       "      <td>223.06</td>\n",
       "      <td>18.76</td>\n",
       "      <td>15.27</td>\n",
       "      <td>23.42</td>\n",
       "    </tr>\n",
       "    <tr>\n",
       "      <th>min</th>\n",
       "      <td>138.00</td>\n",
       "      <td>1.00</td>\n",
       "      <td>15.00</td>\n",
       "      <td>0.00</td>\n",
       "    </tr>\n",
       "    <tr>\n",
       "      <th>20%</th>\n",
       "      <td>362.60</td>\n",
       "      <td>12.00</td>\n",
       "      <td>19.00</td>\n",
       "      <td>19.00</td>\n",
       "    </tr>\n",
       "    <tr>\n",
       "      <th>40%</th>\n",
       "      <td>455.20</td>\n",
       "      <td>20.60</td>\n",
       "      <td>26.00</td>\n",
       "      <td>33.00</td>\n",
       "    </tr>\n",
       "    <tr>\n",
       "      <th>50%</th>\n",
       "      <td>508.00</td>\n",
       "      <td>25.50</td>\n",
       "      <td>29.00</td>\n",
       "      <td>39.00</td>\n",
       "    </tr>\n",
       "    <tr>\n",
       "      <th>60%</th>\n",
       "      <td>576.80</td>\n",
       "      <td>30.00</td>\n",
       "      <td>32.40</td>\n",
       "      <td>45.40</td>\n",
       "    </tr>\n",
       "    <tr>\n",
       "      <th>80%</th>\n",
       "      <td>717.60</td>\n",
       "      <td>43.00</td>\n",
       "      <td>41.20</td>\n",
       "      <td>63.20</td>\n",
       "    </tr>\n",
       "    <tr>\n",
       "      <th>max</th>\n",
       "      <td>1,249.00</td>\n",
       "      <td>96.00</td>\n",
       "      <td>98.00</td>\n",
       "      <td>92.00</td>\n",
       "    </tr>\n",
       "  </tbody>\n",
       "</table>\n",
       "</div>"
      ],
      "text/plain": [
       "       calories fat (gram) protein (gram) carbs (gram)\n",
       "count    300.00     300.00         300.00       300.00\n",
       "mean     548.73      28.63          32.39        40.93\n",
       "std      223.06      18.76          15.27        23.42\n",
       "min      138.00       1.00          15.00         0.00\n",
       "20%      362.60      12.00          19.00        19.00\n",
       "40%      455.20      20.60          26.00        33.00\n",
       "50%      508.00      25.50          29.00        39.00\n",
       "60%      576.80      30.00          32.40        45.40\n",
       "80%      717.60      43.00          41.20        63.20\n",
       "max    1,249.00      96.00          98.00        92.00"
      ]
     },
     "execution_count": 72,
     "metadata": {},
     "output_type": "execute_result"
    }
   ],
   "source": [
    "#Looking over summary statistics of numerical values\n",
    "perc =[.20, .40, .60, .80]\n",
    "include =['object', 'float', 'int']\n",
    "final[['calories','fat (gram)','protein (gram)','carbs (gram)']].describe(percentiles = perc, include = include).applymap('{:,.2f}'.format)"
   ]
  },
  {
   "cell_type": "code",
   "execution_count": 89,
   "metadata": {},
   "outputs": [],
   "source": [
    "import pprint as pp"
   ]
  },
  {
   "cell_type": "markdown",
   "metadata": {},
   "source": [
    "Look at what dishes are the highest in each variable"
   ]
  },
  {
   "cell_type": "code",
   "execution_count": 91,
   "metadata": {},
   "outputs": [
    {
     "name": "stdout",
     "output_type": "stream",
     "text": [
      "The dish with the highest amount of calories:\n"
     ]
    },
    {
     "data": {
      "text/html": [
       "<div>\n",
       "<style scoped>\n",
       "    .dataframe tbody tr th:only-of-type {\n",
       "        vertical-align: middle;\n",
       "    }\n",
       "\n",
       "    .dataframe tbody tr th {\n",
       "        vertical-align: top;\n",
       "    }\n",
       "\n",
       "    .dataframe thead th {\n",
       "        text-align: right;\n",
       "    }\n",
       "</style>\n",
       "<table border=\"1\" class=\"dataframe\">\n",
       "  <thead>\n",
       "    <tr style=\"text-align: right;\">\n",
       "      <th></th>\n",
       "      <th>id</th>\n",
       "      <th>title</th>\n",
       "      <th>calories</th>\n",
       "      <th>protein (gram)</th>\n",
       "      <th>fat (gram)</th>\n",
       "      <th>carbs (gram)</th>\n",
       "    </tr>\n",
       "  </thead>\n",
       "  <tbody>\n",
       "    <tr>\n",
       "      <th>235</th>\n",
       "      <td>648914</td>\n",
       "      <td>Kim's Baked Macaroni &amp; Cheese</td>\n",
       "      <td>1249</td>\n",
       "      <td>61</td>\n",
       "      <td>94</td>\n",
       "      <td>52</td>\n",
       "    </tr>\n",
       "  </tbody>\n",
       "</table>\n",
       "</div>"
      ],
      "text/plain": [
       "         id                          title  calories  protein (gram)  \\\n",
       "235  648914  Kim's Baked Macaroni & Cheese      1249              61   \n",
       "\n",
       "     fat (gram)  carbs (gram)  \n",
       "235          94            52  "
      ]
     },
     "execution_count": 91,
     "metadata": {},
     "output_type": "execute_result"
    }
   ],
   "source": [
    "print('The dish with the highest amount of calories:')\n",
    "final.iloc[final[['calories']].idxmax()]"
   ]
  },
  {
   "cell_type": "code",
   "execution_count": 92,
   "metadata": {},
   "outputs": [
    {
     "name": "stdout",
     "output_type": "stream",
     "text": [
      "The dish with the highest amount of protein:\n"
     ]
    },
    {
     "data": {
      "text/html": [
       "<div>\n",
       "<style scoped>\n",
       "    .dataframe tbody tr th:only-of-type {\n",
       "        vertical-align: middle;\n",
       "    }\n",
       "\n",
       "    .dataframe tbody tr th {\n",
       "        vertical-align: top;\n",
       "    }\n",
       "\n",
       "    .dataframe thead th {\n",
       "        text-align: right;\n",
       "    }\n",
       "</style>\n",
       "<table border=\"1\" class=\"dataframe\">\n",
       "  <thead>\n",
       "    <tr style=\"text-align: right;\">\n",
       "      <th></th>\n",
       "      <th>id</th>\n",
       "      <th>title</th>\n",
       "      <th>calories</th>\n",
       "      <th>protein (gram)</th>\n",
       "      <th>fat (gram)</th>\n",
       "      <th>carbs (gram)</th>\n",
       "    </tr>\n",
       "  </thead>\n",
       "  <tbody>\n",
       "    <tr>\n",
       "      <th>126</th>\n",
       "      <td>640869</td>\n",
       "      <td>Crock Pot Shredded French Dip</td>\n",
       "      <td>1039</td>\n",
       "      <td>98</td>\n",
       "      <td>55</td>\n",
       "      <td>39</td>\n",
       "    </tr>\n",
       "  </tbody>\n",
       "</table>\n",
       "</div>"
      ],
      "text/plain": [
       "         id                          title  calories  protein (gram)  \\\n",
       "126  640869  Crock Pot Shredded French Dip      1039              98   \n",
       "\n",
       "     fat (gram)  carbs (gram)  \n",
       "126          55            39  "
      ]
     },
     "execution_count": 92,
     "metadata": {},
     "output_type": "execute_result"
    }
   ],
   "source": [
    "print('The dish with the highest amount of protein:')\n",
    "final.iloc[final[['protein (gram)']].idxmax()]"
   ]
  },
  {
   "cell_type": "code",
   "execution_count": 93,
   "metadata": {},
   "outputs": [
    {
     "name": "stdout",
     "output_type": "stream",
     "text": [
      "The dish with the highest amount of fats:\n"
     ]
    },
    {
     "data": {
      "text/html": [
       "<div>\n",
       "<style scoped>\n",
       "    .dataframe tbody tr th:only-of-type {\n",
       "        vertical-align: middle;\n",
       "    }\n",
       "\n",
       "    .dataframe tbody tr th {\n",
       "        vertical-align: top;\n",
       "    }\n",
       "\n",
       "    .dataframe thead th {\n",
       "        text-align: right;\n",
       "    }\n",
       "</style>\n",
       "<table border=\"1\" class=\"dataframe\">\n",
       "  <thead>\n",
       "    <tr style=\"text-align: right;\">\n",
       "      <th></th>\n",
       "      <th>id</th>\n",
       "      <th>title</th>\n",
       "      <th>calories</th>\n",
       "      <th>protein (gram)</th>\n",
       "      <th>fat (gram)</th>\n",
       "      <th>carbs (gram)</th>\n",
       "    </tr>\n",
       "  </thead>\n",
       "  <tbody>\n",
       "    <tr>\n",
       "      <th>48</th>\n",
       "      <td>645884</td>\n",
       "      <td>Grilled Spareribs With Birmingham Bbq Sauce</td>\n",
       "      <td>1224</td>\n",
       "      <td>59</td>\n",
       "      <td>96</td>\n",
       "      <td>28</td>\n",
       "    </tr>\n",
       "  </tbody>\n",
       "</table>\n",
       "</div>"
      ],
      "text/plain": [
       "        id                                        title  calories  \\\n",
       "48  645884  Grilled Spareribs With Birmingham Bbq Sauce      1224   \n",
       "\n",
       "    protein (gram)  fat (gram)  carbs (gram)  \n",
       "48              59          96            28  "
      ]
     },
     "execution_count": 93,
     "metadata": {},
     "output_type": "execute_result"
    }
   ],
   "source": [
    "print('The dish with the highest amount of fats:')\n",
    "final.iloc[final[['fat (gram)']].idxmax()]"
   ]
  },
  {
   "cell_type": "code",
   "execution_count": 94,
   "metadata": {},
   "outputs": [
    {
     "name": "stdout",
     "output_type": "stream",
     "text": [
      "The dish with the highest amount of carbs:\n"
     ]
    },
    {
     "data": {
      "text/html": [
       "<div>\n",
       "<style scoped>\n",
       "    .dataframe tbody tr th:only-of-type {\n",
       "        vertical-align: middle;\n",
       "    }\n",
       "\n",
       "    .dataframe tbody tr th {\n",
       "        vertical-align: top;\n",
       "    }\n",
       "\n",
       "    .dataframe thead th {\n",
       "        text-align: right;\n",
       "    }\n",
       "</style>\n",
       "<table border=\"1\" class=\"dataframe\">\n",
       "  <thead>\n",
       "    <tr style=\"text-align: right;\">\n",
       "      <th></th>\n",
       "      <th>id</th>\n",
       "      <th>title</th>\n",
       "      <th>calories</th>\n",
       "      <th>protein (gram)</th>\n",
       "      <th>fat (gram)</th>\n",
       "      <th>carbs (gram)</th>\n",
       "    </tr>\n",
       "  </thead>\n",
       "  <tbody>\n",
       "    <tr>\n",
       "      <th>298</th>\n",
       "      <td>994607</td>\n",
       "      <td>Kaiserschmarrn</td>\n",
       "      <td>783</td>\n",
       "      <td>29</td>\n",
       "      <td>32</td>\n",
       "      <td>92</td>\n",
       "    </tr>\n",
       "  </tbody>\n",
       "</table>\n",
       "</div>"
      ],
      "text/plain": [
       "         id           title  calories  protein (gram)  fat (gram)  \\\n",
       "298  994607  Kaiserschmarrn       783              29          32   \n",
       "\n",
       "     carbs (gram)  \n",
       "298            92  "
      ]
     },
     "execution_count": 94,
     "metadata": {},
     "output_type": "execute_result"
    }
   ],
   "source": [
    "print('The dish with the highest amount of carbs:')\n",
    "final.iloc[final[['carbs (gram)']].idxmax()]"
   ]
  }
 ],
 "metadata": {
  "kernelspec": {
   "display_name": "Python 3.9.12 ('base')",
   "language": "python",
   "name": "python3"
  },
  "language_info": {
   "codemirror_mode": {
    "name": "ipython",
    "version": 3
   },
   "file_extension": ".py",
   "mimetype": "text/x-python",
   "name": "python",
   "nbconvert_exporter": "python",
   "pygments_lexer": "ipython3",
   "version": "3.9.12"
  },
  "orig_nbformat": 4,
  "vscode": {
   "interpreter": {
    "hash": "17148b80536a9518b3c217100db44d9bbf858b2c0861d2db315eb0a1b18cdf91"
   }
  }
 },
 "nbformat": 4,
 "nbformat_minor": 2
}
