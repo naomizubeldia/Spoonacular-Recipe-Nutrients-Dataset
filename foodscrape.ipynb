{
 "cells": [
  {
   "cell_type": "code",
   "execution_count": 16,
   "id": "31bb3350",
   "metadata": {},
   "outputs": [],
   "source": [
    "import pandas as pd\n",
    "import numpy as np\n",
    "import requests\n",
    "import re\n",
    "import csv "
   ]
  },
  {
   "cell_type": "code",
   "execution_count": 2,
   "id": "76082c3c",
   "metadata": {},
   "outputs": [],
   "source": [
    "#call in and store the url of the api website you are using\n",
    "url='https://api.spoonacular.com/recipes/findByNutrients'"
   ]
  },
  {
   "cell_type": "code",
   "execution_count": 3,
   "id": "8ce88314",
   "metadata": {},
   "outputs": [],
   "source": [
    "#insert the apikey and what parameters I wanted to restrict the data pull\n",
    "#for the first 100 points pulled the carbs are 0-30\n",
    "params={\"apiKey\":apikey.txt,\n",
    "        \"minProtein\":15,\n",
    "        \"maxCarbs\":30,\n",
    "        \"number\":100}#note that the spoonacular api will only let you pull atmost 100 data points each time"
   ]
  },
  {
   "cell_type": "code",
   "execution_count": 4,
   "id": "15b6a732",
   "metadata": {},
   "outputs": [],
   "source": [
    "#request the data from the api\n",
    "r= requests.get(url, params=params)"
   ]
  },
  {
   "cell_type": "code",
   "execution_count": 5,
   "id": "4e5ea038",
   "metadata": {},
   "outputs": [
    {
     "data": {
      "text/plain": [
       "True"
      ]
     },
     "execution_count": 5,
     "metadata": {},
     "output_type": "execute_result"
    }
   ],
   "source": [
    "#check if the request went through correctly\n",
    "r.ok"
   ]
  },
  {
   "cell_type": "code",
   "execution_count": 6,
   "id": "6a28c9af",
   "metadata": {},
   "outputs": [],
   "source": [
    "#load the requested data in json form into a datafram\n",
    "recipe=pd.DataFrame(r.json())"
   ]
  },
  {
   "cell_type": "code",
   "execution_count": 7,
   "id": "b8bed904",
   "metadata": {},
   "outputs": [],
   "source": [
    "#create more parameters to get 100 more datapoints with 30-50 carbs\n",
    "params2={\"apiKey\":apikey.txt,\n",
    "        \"minProtein\":15,\n",
    "        \"minCarbs\":30, #here the min and max carbs are updated compared to the previous call to get a wider range of data\n",
    "        \"maxCarbs\":50,\n",
    "        \"number\":100}"
   ]
  },
  {
   "cell_type": "code",
   "execution_count": 8,
   "id": "ff9abaf2",
   "metadata": {},
   "outputs": [],
   "source": [
    "#request more data according to params2\n",
    "d=requests.get(url,params=params2)"
   ]
  },
  {
   "cell_type": "code",
   "execution_count": 9,
   "id": "6b46cb26",
   "metadata": {},
   "outputs": [],
   "source": [
    "#load the json file of the params2 request into a dataframe\n",
    "recipe2= pd.DataFrame(d.json())"
   ]
  },
  {
   "cell_type": "code",
   "execution_count": 10,
   "id": "f197add7",
   "metadata": {},
   "outputs": [],
   "source": [
    "#create parameters of 50-95 carbs for the last 100 datapoints pulled\n",
    "params3={\"apiKey\":apikey.txt,\n",
    "        \"minProtein\":15,\n",
    "        \"minCarbs\":50,\n",
    "        \"maxCarbs\":95,\n",
    "        \"number\":100}"
   ]
  },
  {
   "cell_type": "code",
   "execution_count": 11,
   "id": "b6ef5df5",
   "metadata": {},
   "outputs": [],
   "source": [
    "#request more data according to params3\n",
    "c=requests.get(url,params=params3)"
   ]
  },
  {
   "cell_type": "code",
   "execution_count": 12,
   "id": "fdceffc5",
   "metadata": {},
   "outputs": [],
   "source": [
    "#load the json file of the params3 request into a dataframe\n",
    "recipe3=pd.DataFrame(c.json())"
   ]
  },
  {
   "cell_type": "code",
   "execution_count": 13,
   "id": "d3353258",
   "metadata": {},
   "outputs": [],
   "source": [
    "#put the three dataframes created above into a list and then concat them into a big dataframe\n",
    "two=[recipe,recipe2,recipe3]\n",
    "Recipe=pd.concat(two)"
   ]
  },
  {
   "cell_type": "code",
   "execution_count": 14,
   "id": "d07f62a8",
   "metadata": {},
   "outputs": [],
   "source": [
    "#drop any possible duplicates from the pulls\n",
    "recipes=Recipe.drop_duplicates()"
   ]
  },
  {
   "cell_type": "code",
   "execution_count": 15,
   "id": "c5e08e1b",
   "metadata": {},
   "outputs": [
    {
     "data": {
      "text/plain": [
       "0"
      ]
     },
     "execution_count": 15,
     "metadata": {},
     "output_type": "execute_result"
    }
   ],
   "source": [
    "#returns the number of duplicates to check after dropping them\n",
    "recipes.duplicated().sum()"
   ]
  },
  {
   "cell_type": "code",
   "execution_count": 25,
   "id": "a8216091",
   "metadata": {},
   "outputs": [],
   "source": [
    "#view the new dataframe to make sure it went through correctly\n",
    "recipes.head()"
   ]
  },
  {
   "cell_type": "code",
   "execution_count": null,
   "id": "0bd06ee8",
   "metadata": {},
   "outputs": [],
   "source": []
  }
 ],
 "metadata": {
  "kernelspec": {
   "display_name": "Python 3 (ipykernel)",
   "language": "python",
   "name": "python3"
  },
  "language_info": {
   "codemirror_mode": {
    "name": "ipython",
    "version": 3
   },
   "file_extension": ".py",
   "mimetype": "text/x-python",
   "name": "python",
   "nbconvert_exporter": "python",
   "pygments_lexer": "ipython3",
   "version": "3.9.12"
  }
 },
 "nbformat": 4,
 "nbformat_minor": 5
}
